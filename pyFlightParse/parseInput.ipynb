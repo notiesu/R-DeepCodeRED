{
 "cells": [
  {
   "cell_type": "code",
   "execution_count": 24,
   "metadata": {},
   "outputs": [],
   "source": [
    "import pandas as pd\n",
    "#just define a function to take a city code and get all the stuff\n",
    "\n",
    "def cityToAirports(city: str):\n",
    "    code_data = pd.read_excel('airport-codes.xls')\n",
    "    code_data = code_data[code_data.index % 2 != 0]\n",
    "    #filter to specific city\n",
    "    code_filtered = code_data[code_data['City name'] == \"Houston\"]\n",
    "    return code_filtered['Airport Code'].values\n",
    "\n",
    "arr = cityToAirports(\"Houston\")\n",
    "arr = list(arr)\n",
    "\n"
   ]
  },
  {
   "cell_type": "code",
   "execution_count": 25,
   "metadata": {},
   "outputs": [
    {
     "data": {
      "text/plain": [
       "['ZHO',\n",
       " 'AAP',\n",
       " 'JDX',\n",
       " 'DWH',\n",
       " 'EFD',\n",
       " 'IAH',\n",
       " 'JGP',\n",
       " 'HOU',\n",
       " 'JMA',\n",
       " 'JPT',\n",
       " 'SPX',\n",
       " 'JGQ',\n",
       " 'IWS',\n",
       " 'JWH',\n",
       " 'JWL']"
      ]
     },
     "execution_count": 25,
     "metadata": {},
     "output_type": "execute_result"
    }
   ],
   "source": [
    "arr"
   ]
  },
  {
   "cell_type": "code",
   "execution_count": null,
   "metadata": {},
   "outputs": [],
   "source": []
  }
 ],
 "metadata": {
  "kernelspec": {
   "display_name": "flightParse",
   "language": "python",
   "name": "python3"
  },
  "language_info": {
   "codemirror_mode": {
    "name": "ipython",
    "version": 3
   },
   "file_extension": ".py",
   "mimetype": "text/x-python",
   "name": "python",
   "nbconvert_exporter": "python",
   "pygments_lexer": "ipython3",
   "version": "3.12.1"
  }
 },
 "nbformat": 4,
 "nbformat_minor": 2
}
